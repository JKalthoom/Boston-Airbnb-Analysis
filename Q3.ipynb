{
 "cells": [
  {
   "cell_type": "code",
   "execution_count": 25,
   "metadata": {},
   "outputs": [],
   "source": [
    "import numpy as np\n",
    "import pandas as pd\n",
    "import matplotlib.pyplot as plt\n",
    "import seaborn as sns"
   ]
  },
  {
   "cell_type": "code",
   "execution_count": 26,
   "metadata": {},
   "outputs": [
    {
     "name": "stdout",
     "output_type": "stream",
     "text": [
      "{'listing_url', 'host_response_time', 'number_of_reviews', 'minimum_nights', 'xl_picture_url', 'host_thumbnail_url', 'host_name', 'review_scores_communication', 'thumbnail_url', 'amenities', 'last_scraped', 'scrape_id', 'availability_30', 'square_feet', 'calendar_last_scraped', 'host_listings_count', 'is_location_exact', 'neighbourhood_group_cleansed', 'availability_60', 'interaction', 'host_url', 'summary', 'review_scores_checkin', 'zipcode', 'reviews_per_month', 'medium_url', 'host_identity_verified', 'host_id', 'picture_url', 'house_rules', 'host_about', 'review_scores_location', 'neighborhood_overview', 'host_total_listings_count', 'host_picture_url', 'extra_people', 'transit', 'weekly_price', 'price', 'id', 'review_scores_cleanliness', 'description', 'require_guest_phone_verification', 'host_location', 'guests_included', 'bathrooms', 'host_is_superhost', 'access', 'host_since', 'first_review', 'country', 'bedrooms', 'calendar_updated', 'experiences_offered', 'market', 'require_guest_profile_picture', 'name', 'review_scores_value', 'room_type', 'has_availability', 'review_scores_rating', 'longitude', 'host_verifications', 'cleaning_fee', 'last_review', 'accommodates', 'country_code', 'state', 'space', 'bed_type', 'neighbourhood', 'neighbourhood_cleansed', 'beds', 'cancellation_policy', 'smart_location', 'review_scores_accuracy', 'notes', 'host_response_rate', 'host_has_profile_pic', 'host_neighbourhood', 'city', 'monthly_price', 'instant_bookable', 'property_type', 'maximum_nights', 'requires_license', 'latitude', 'availability_365', 'host_acceptance_rate', 'street', 'security_deposit', 'availability_90', 'license', 'calculated_host_listings_count', 'jurisdiction_names'}\n"
     ]
    }
   ],
   "source": [
    "# Reading Data\n",
    "path = '..\\listings.csv'\n",
    "df = pd.read_csv(path)\n",
    "\n",
    "# Descovering Data\n",
    "df.head()\n",
    "print(set(df.columns))"
   ]
  },
  {
   "cell_type": "markdown",
   "metadata": {},
   "source": [
    "Question 3:\n",
    "What is the average number of reviews per month for listings in each room type?"
   ]
  },
  {
   "cell_type": "code",
   "execution_count": 27,
   "metadata": {},
   "outputs": [
    {
     "data": {
      "text/html": [
       "<div>\n",
       "<style scoped>\n",
       "    .dataframe tbody tr th:only-of-type {\n",
       "        vertical-align: middle;\n",
       "    }\n",
       "\n",
       "    .dataframe tbody tr th {\n",
       "        vertical-align: top;\n",
       "    }\n",
       "\n",
       "    .dataframe thead th {\n",
       "        text-align: right;\n",
       "    }\n",
       "</style>\n",
       "<table border=\"1\" class=\"dataframe\">\n",
       "  <thead>\n",
       "    <tr style=\"text-align: right;\">\n",
       "      <th></th>\n",
       "      <th>room_type</th>\n",
       "      <th>reviews_per_month</th>\n",
       "    </tr>\n",
       "  </thead>\n",
       "  <tbody>\n",
       "    <tr>\n",
       "      <th>0</th>\n",
       "      <td>Entire home/apt</td>\n",
       "      <td>NaN</td>\n",
       "    </tr>\n",
       "    <tr>\n",
       "      <th>1</th>\n",
       "      <td>Private room</td>\n",
       "      <td>1.30</td>\n",
       "    </tr>\n",
       "    <tr>\n",
       "      <th>2</th>\n",
       "      <td>Private room</td>\n",
       "      <td>0.47</td>\n",
       "    </tr>\n",
       "    <tr>\n",
       "      <th>3</th>\n",
       "      <td>Private room</td>\n",
       "      <td>1.00</td>\n",
       "    </tr>\n",
       "    <tr>\n",
       "      <th>4</th>\n",
       "      <td>Private room</td>\n",
       "      <td>2.25</td>\n",
       "    </tr>\n",
       "    <tr>\n",
       "      <th>...</th>\n",
       "      <td>...</td>\n",
       "      <td>...</td>\n",
       "    </tr>\n",
       "    <tr>\n",
       "      <th>3580</th>\n",
       "      <td>Private room</td>\n",
       "      <td>0.34</td>\n",
       "    </tr>\n",
       "    <tr>\n",
       "      <th>3581</th>\n",
       "      <td>Private room</td>\n",
       "      <td>NaN</td>\n",
       "    </tr>\n",
       "    <tr>\n",
       "      <th>3582</th>\n",
       "      <td>Entire home/apt</td>\n",
       "      <td>NaN</td>\n",
       "    </tr>\n",
       "    <tr>\n",
       "      <th>3583</th>\n",
       "      <td>Private room</td>\n",
       "      <td>2.00</td>\n",
       "    </tr>\n",
       "    <tr>\n",
       "      <th>3584</th>\n",
       "      <td>Private room</td>\n",
       "      <td>NaN</td>\n",
       "    </tr>\n",
       "  </tbody>\n",
       "</table>\n",
       "<p>3585 rows × 2 columns</p>\n",
       "</div>"
      ],
      "text/plain": [
       "            room_type  reviews_per_month\n",
       "0     Entire home/apt                NaN\n",
       "1        Private room               1.30\n",
       "2        Private room               0.47\n",
       "3        Private room               1.00\n",
       "4        Private room               2.25\n",
       "...               ...                ...\n",
       "3580     Private room               0.34\n",
       "3581     Private room                NaN\n",
       "3582  Entire home/apt                NaN\n",
       "3583     Private room               2.00\n",
       "3584     Private room                NaN\n",
       "\n",
       "[3585 rows x 2 columns]"
      ]
     },
     "execution_count": 27,
     "metadata": {},
     "output_type": "execute_result"
    }
   ],
   "source": [
    "# Selecting all the columns that is related to the question\n",
    "columns_of_interest = ['room_type', 'reviews_per_month']\n",
    "\n",
    "df_subset = df[columns_of_interest]\n",
    "df_subset"
   ]
  },
  {
   "cell_type": "code",
   "execution_count": 28,
   "metadata": {},
   "outputs": [
    {
     "data": {
      "text/plain": [
       "room_type              0\n",
       "reviews_per_month    756\n",
       "dtype: int64"
      ]
     },
     "execution_count": 28,
     "metadata": {},
     "output_type": "execute_result"
    }
   ],
   "source": [
    "# Checking for null values\n",
    "np.sum(df_subset.isnull(), axis=0)"
   ]
  },
  {
   "cell_type": "code",
   "execution_count": 29,
   "metadata": {},
   "outputs": [
    {
     "name": "stdout",
     "output_type": "stream",
     "text": [
      "0\n"
     ]
    }
   ],
   "source": [
    "# Cheking for zeros in the reviews_per_month column\n",
    "print((df_subset['reviews_per_month'] == 0).sum())"
   ]
  },
  {
   "cell_type": "code",
   "execution_count": null,
   "metadata": {},
   "outputs": [],
   "source": [
    "# Since there are no zeros, I will assume that null is equal to zero (they don't have reviews)\n",
    "df_subset['reviews_per_month'] = df_subset['reviews_per_month'].fillna(0)"
   ]
  },
  {
   "cell_type": "code",
   "execution_count": 31,
   "metadata": {},
   "outputs": [
    {
     "name": "stdout",
     "output_type": "stream",
     "text": [
      "<class 'pandas.core.frame.DataFrame'>\n",
      "RangeIndex: 3585 entries, 0 to 3584\n",
      "Data columns (total 2 columns):\n",
      " #   Column             Non-Null Count  Dtype  \n",
      "---  ------             --------------  -----  \n",
      " 0   room_type          3585 non-null   object \n",
      " 1   reviews_per_month  3585 non-null   float64\n",
      "dtypes: float64(1), object(1)\n",
      "memory usage: 56.1+ KB\n"
     ]
    }
   ],
   "source": [
    "# Descovering the dataset columns type\n",
    "df_subset.info()"
   ]
  },
  {
   "cell_type": "code",
   "execution_count": 32,
   "metadata": {},
   "outputs": [],
   "source": [
    "# Calculate the average number of reviews per month for each room type\n",
    "average_reviews_per_month_by_room_type = df_subset.groupby('room_type')['reviews_per_month'].mean().reset_index()\n",
    "\n",
    "# Renaming the columns for clarity\n",
    "average_reviews_per_month_by_room_type.columns = ['Room Type', 'Average Reviews per Month']\n",
    "\n",
    "# Sorting by the average price for better visualization\n",
    "average_reviews_per_month_by_room_type = average_reviews_per_month_by_room_type.sort_values(by='Average Reviews per Month', ascending=False)"
   ]
  },
  {
   "cell_type": "code",
   "execution_count": 33,
   "metadata": {},
   "outputs": [
    {
     "name": "stdout",
     "output_type": "stream",
     "text": [
      "         Room Type  Average Reviews per Month\n",
      "1     Private room                   1.804289\n",
      "2      Shared room                   1.431250\n",
      "0  Entire home/apt                   1.398632\n"
     ]
    }
   ],
   "source": [
    "print(average_reviews_per_month_by_room_type)"
   ]
  },
  {
   "cell_type": "code",
   "execution_count": 34,
   "metadata": {},
   "outputs": [
    {
     "data": {
      "image/png": "[encoded data removed]",
      "text/plain": [
       "<Figure size 1200x800 with 1 Axes>"
      ]
     },
     "metadata": {},
     "output_type": "display_data"
    }
   ],
   "source": [
    "# Plot the results\n",
    "plt.figure(figsize=(12, 8))\n",
    "sns.barplot(x='Average Reviews per Month', y='Room Type', hue='Room Type', data=average_reviews_per_month_by_room_type, palette='viridis', dodge=False, legend=False)\n",
    "\n",
    "plt.title('Average Reviews per Month')\n",
    "plt.xlabel('Average Number')\n",
    "plt.ylabel('Room Type')\n",
    "plt.show()"
   ]
  }
 ],
 "metadata": {
  "kernelspec": {
   "display_name": ".venv",
   "language": "python",
   "name": "python3"
  },
  "language_info": {
   "codemirror_mode": {
    "name": "ipython",
    "version": 3
   },
   "file_extension": ".py",
   "mimetype": "text/x-python",
   "name": "python",
   "nbconvert_exporter": "python",
   "pygments_lexer": "ipython3",
   "version": "3.12.0"
  }
 },
 "nbformat": 4,
 "nbformat_minor": 2
}
